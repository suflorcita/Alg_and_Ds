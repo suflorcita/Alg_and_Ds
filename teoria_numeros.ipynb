{
  "nbformat": 4,
  "nbformat_minor": 0,
  "metadata": {
    "colab": {
      "name": "teoria_numeros.ipynb",
      "provenance": [],
      "collapsed_sections": [],
      "authorship_tag": "ABX9TyPNog0YNXovE8pBdbsTpiin",
      "include_colab_link": true
    },
    "kernelspec": {
      "name": "python3",
      "display_name": "Python 3"
    },
    "language_info": {
      "name": "python"
    }
  },
  "cells": [
    {
      "cell_type": "markdown",
      "metadata": {
        "id": "view-in-github",
        "colab_type": "text"
      },
      "source": [
        "<a href=\"https://colab.research.google.com/github/suflorcita/Alg_and_Ds/blob/main/teoria_numeros.ipynb\" target=\"_parent\"><img src=\"https://colab.research.google.com/assets/colab-badge.svg\" alt=\"Open In Colab\"/></a>"
      ]
    },
    {
      "cell_type": "markdown",
      "metadata": {
        "id": "FJ5jCs--kQk2"
      },
      "source": [
        "## Aritmética modular \n",
        "\n",
        "**Aritmética modular**: Cuando un número es dividido por otro, la operación módulo encuentra el resto. Es denotado por el símbolo `%`\n"
      ]
    },
    {
      "cell_type": "markdown",
      "metadata": {
        "id": "BZ2XgKMUkxzG"
      },
      "source": [
        "**Ejemplo**: Tengo dos números, el 5 y el 2. 5 % 2 es 1 porque cuando divido 5 por 2 me da resto 1. "
      ]
    },
    {
      "cell_type": "markdown",
      "metadata": {
        "id": "NrLIxypnk6kn"
      },
      "source": [
        "**Propiedades**: \n",
        "1. (a + b) % c = (a % c + b % c) % c\n",
        "2. (a * b) % c = (() * ()  ) % c"
      ]
    },
    {
      "cell_type": "code",
      "metadata": {
        "id": "8XZ2odi7ld1K"
      },
      "source": [
        ""
      ],
      "execution_count": null,
      "outputs": []
    },
    {
      "cell_type": "code",
      "metadata": {
        "id": "ss-PToA7k5UC"
      },
      "source": [
        ""
      ],
      "execution_count": null,
      "outputs": []
    },
    {
      "cell_type": "code",
      "metadata": {
        "id": "_ZxIwLpmkO2X"
      },
      "source": [
        ""
      ],
      "execution_count": null,
      "outputs": []
    }
  ]
}
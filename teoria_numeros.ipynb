{
  "nbformat": 4,
  "nbformat_minor": 0,
  "metadata": {
    "colab": {
      "name": "Copia de teoria_numeros.ipynb",
      "provenance": [],
      "collapsed_sections": [],
      "authorship_tag": "ABX9TyMEdyDt5jkmTd+l7h8f/7SD",
      "include_colab_link": true
    },
    "kernelspec": {
      "name": "python3",
      "display_name": "Python 3"
    },
    "language_info": {
      "name": "python"
    }
  },
  "cells": [
    {
      "cell_type": "markdown",
      "metadata": {
        "id": "view-in-github",
        "colab_type": "text"
      },
      "source": [
        "<a href=\"https://colab.research.google.com/github/suflorcita/Alg_and_Ds/blob/main/teoria_numeros.ipynb\" target=\"_parent\"><img src=\"https://colab.research.google.com/assets/colab-badge.svg\" alt=\"Open In Colab\"/></a>"
      ]
    },
    {
      "cell_type": "markdown",
      "metadata": {
        "id": "FJ5jCs--kQk2"
      },
      "source": [
        "**Algoritmo que evalúa si un número es primo**\n",
        "\n",
        "Es un algoritmo de fuerza bruta, puede llegar a tener problemas en:\n",
        "- Tiempo\n",
        "- Espacio \n",
        "\n"
      ]
    },
    {
      "cell_type": "code",
      "metadata": {
        "id": "8XZ2odi7ld1K"
      },
      "source": [
        "def is_prime(n):\n",
        "    '''\n",
        "    Checks whether the argument n is a prime number.\n",
        "    Uses a brute force search for factors between 1 and n.\n",
        "    '''\n",
        "    for j in range(2,n):  # the list of numbers 2,3,...,n-1.\n",
        "        if n%j == 0:  # is n divisible by j?\n",
        "            print(\"{} is a factor of {}.\".format(j,n))\n",
        "            return False\n",
        "    return True"
      ],
      "execution_count": null,
      "outputs": []
    },
    {
      "cell_type": "code",
      "metadata": {
        "id": "ss-PToA7k5UC",
        "colab": {
          "base_uri": "https://localhost:8080/"
        },
        "outputId": "0b716378-1764-4a51-dc6c-05e28ea8b0a7"
      },
      "source": [
        "is_prime(101)"
      ],
      "execution_count": null,
      "outputs": [
        {
          "output_type": "execute_result",
          "data": {
            "text/plain": [
              "True"
            ]
          },
          "metadata": {},
          "execution_count": 4
        }
      ]
    },
    {
      "cell_type": "code",
      "metadata": {
        "colab": {
          "base_uri": "https://localhost:8080/"
        },
        "id": "2Nv3_klxJwba",
        "outputId": "19fd0f6f-2f41-47fd-fa60-42767b7a386c"
      },
      "source": [
        "is_prime(91)"
      ],
      "execution_count": null,
      "outputs": [
        {
          "output_type": "stream",
          "name": "stdout",
          "text": [
            "7 is a factor of 91.\n"
          ]
        },
        {
          "output_type": "execute_result",
          "data": {
            "text/plain": [
              "False"
            ]
          },
          "metadata": {},
          "execution_count": 5
        }
      ]
    },
    {
      "cell_type": "markdown",
      "metadata": {
        "id": "2wYhv5EIkjMG"
      },
      "source": [
        "**Algoritmo de Euclides**\n",
        "\n",
        "Este algoritmo me permite encontrar el **máximo común divisor(gcd)** entre dos números. \n",
        "- Se empieza con dos números: `a` es el `divisor` y `b` es el `dividendo`. \n",
        "- Se divide `a` por `b`y queda: `a = qb + r` donde q es el cociente y r el resto\n",
        "- Después `b` se convierte en el dividendo y `r` se convierte en el divisor y así sucesivamente. \n",
        "- Proceso iterativo hasta que se llega al último resto distinto de 0, que es el **máximo común divisor(gcd)** entre `a` y `b`.  \n",
        "\n",
        "![euclides.png](data:image/png;base64,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)"
      ]
    },
    {
      "cell_type": "code",
      "metadata": {
        "id": "_ZxIwLpmkO2X"
      },
      "source": [
        "def Euclidean_algorithm(a,b):\n",
        "  '''Esta función me muestra cada paso en el algoritmo '''\n",
        "  dividend = a\n",
        "  divisor = b\n",
        "  while divisor != 0:   # Recall that != means \"is not equal to\".\n",
        "      quotient = dividend // divisor\n",
        "      remainder = dividend % divisor\n",
        "      print(\"{} = {} ({}) + {}\".format(dividend, quotient, divisor, remainder))\n",
        "      dividend = divisor  \n",
        "      divisor = remainder"
      ],
      "execution_count": null,
      "outputs": []
    },
    {
      "cell_type": "code",
      "metadata": {
        "id": "Hmal8HvzmjEa",
        "colab": {
          "base_uri": "https://localhost:8080/"
        },
        "outputId": "904d7309-a22e-4fcd-d0d1-120f7e4d2778"
      },
      "source": [
        "Euclidean_algorithm(133, 58)"
      ],
      "execution_count": null,
      "outputs": [
        {
          "output_type": "stream",
          "name": "stdout",
          "text": [
            "133 = 2 (58) + 17\n",
            "58 = 3 (17) + 7\n",
            "17 = 2 (7) + 3\n",
            "7 = 2 (3) + 1\n",
            "3 = 3 (1) + 0\n"
          ]
        }
      ]
    },
    {
      "cell_type": "code",
      "metadata": {
        "id": "ghdAF6zHpLkg",
        "colab": {
          "base_uri": "https://localhost:8080/"
        },
        "outputId": "a376c27c-4d5b-4f31-de8d-1e952048d6d2"
      },
      "source": [
        "Euclidean_algorithm(1312331323, 58123123)"
      ],
      "execution_count": null,
      "outputs": [
        {
          "output_type": "stream",
          "name": "stdout",
          "text": [
            "1312331323 = 22 (58123123) + 33622617\n",
            "58123123 = 1 (33622617) + 24500506\n",
            "33622617 = 1 (24500506) + 9122111\n",
            "24500506 = 2 (9122111) + 6256284\n",
            "9122111 = 1 (6256284) + 2865827\n",
            "6256284 = 2 (2865827) + 524630\n",
            "2865827 = 5 (524630) + 242677\n",
            "524630 = 2 (242677) + 39276\n",
            "242677 = 6 (39276) + 7021\n",
            "39276 = 5 (7021) + 4171\n",
            "7021 = 1 (4171) + 2850\n",
            "4171 = 1 (2850) + 1321\n",
            "2850 = 2 (1321) + 208\n",
            "1321 = 6 (208) + 73\n",
            "208 = 2 (73) + 62\n",
            "73 = 1 (62) + 11\n",
            "62 = 5 (11) + 7\n",
            "11 = 1 (7) + 4\n",
            "7 = 1 (4) + 3\n",
            "4 = 1 (3) + 1\n",
            "3 = 3 (1) + 0\n"
          ]
        }
      ]
    },
    {
      "cell_type": "code",
      "metadata": {
        "id": "IxccQZUkpPlg",
        "colab": {
          "base_uri": "https://localhost:8080/"
        },
        "outputId": "450865cd-ba9c-4f4b-eca2-0016fca6ffdd"
      },
      "source": [
        "Euclidean_algorithm(9, 6)"
      ],
      "execution_count": null,
      "outputs": [
        {
          "output_type": "stream",
          "name": "stdout",
          "text": [
            "9 = 1 (6) + 3\n",
            "6 = 2 (3) + 0\n"
          ]
        }
      ]
    },
    {
      "cell_type": "code",
      "metadata": {
        "id": "mij5-c6lsiLR"
      },
      "source": [
        "def GCD0(a,b):\n",
        "    ''' Función que devuelve el máximo común divisor '''\n",
        "    dividend = a # The first dividend is a.\n",
        "    divisor = b # The first divisor is b.\n",
        "    while divisor != 0:   # Recall that != means \"not equal to\".\n",
        "        quotient = dividend // divisor\n",
        "        remainder = dividend % divisor\n",
        "        dividend = divisor  \n",
        "        divisor = remainder\n",
        "    return abs(dividend)  #  abs() is used, since we like our GCDs to be positive."
      ],
      "execution_count": 6,
      "outputs": []
    },
    {
      "cell_type": "code",
      "metadata": {
        "colab": {
          "base_uri": "https://localhost:8080/"
        },
        "id": "-RH8Acsjs90W",
        "outputId": "d95b4966-5aaa-4c02-dd23-83876c369842"
      },
      "source": [
        "GCD(111,27)"
      ],
      "execution_count": 2,
      "outputs": [
        {
          "output_type": "execute_result",
          "data": {
            "text/plain": [
              "3"
            ]
          },
          "metadata": {},
          "execution_count": 2
        }
      ]
    },
    {
      "cell_type": "code",
      "metadata": {
        "colab": {
          "base_uri": "https://localhost:8080/"
        },
        "id": "DdHf0dY7t4nz",
        "outputId": "08490728-dd58-47fe-93f8-9f872797905e"
      },
      "source": [
        "GCD(-111,27)"
      ],
      "execution_count": 3,
      "outputs": [
        {
          "output_type": "execute_result",
          "data": {
            "text/plain": [
              "3"
            ]
          },
          "metadata": {},
          "execution_count": 3
        }
      ]
    },
    {
      "cell_type": "code",
      "metadata": {
        "id": "2-AEthoouK1w"
      },
      "source": [
        "def GCD2(a,b):\n",
        "     ''' Función que devuelve el máximo común divisor con mejoras''' \n",
        "    dividend = a  \n",
        "    divisor = b  \n",
        "    while divisor != 0:   \n",
        "  # el cociente no me sirve para nada, asi que no lo calculo\n",
        "        remainder = dividend % divisor\n",
        "        dividend = divisor  \n",
        "        divisor = remainder\n",
        "    return abs(dividend)"
      ],
      "execution_count": null,
      "outputs": []
    },
    {
      "cell_type": "code",
      "metadata": {
        "id": "6avyIeGQv2aB"
      },
      "source": [
        "x,y = 2,3  # asignacion multiple"
      ],
      "execution_count": 7,
      "outputs": []
    },
    {
      "cell_type": "code",
      "metadata": {
        "id": "iGXsqfdLv29m"
      },
      "source": [
        "def GCD3(a,b):\n",
        "    ''' Función que devuelve el máximo común divisor con mejoras2'''\n",
        "    dividend = a  \n",
        "    divisor = b  \n",
        "    while divisor:   # Executes the scope if divisor is nonzero.\n",
        "        dividend, divisor = divisor, dividend % divisor\n",
        "    return abs(dividend)"
      ],
      "execution_count": 14,
      "outputs": []
    },
    {
      "cell_type": "code",
      "metadata": {
        "colab": {
          "base_uri": "https://localhost:8080/"
        },
        "id": "2_iq0PQrv6AC",
        "outputId": "0c239dbc-0300-43ea-8903-ac0fbbec9049"
      },
      "source": [
        ""
      ],
      "execution_count": 11,
      "outputs": [
        {
          "output_type": "execute_result",
          "data": {
            "text/plain": [
              "2"
            ]
          },
          "metadata": {},
          "execution_count": 11
        }
      ]
    },
    {
      "cell_type": "code",
      "metadata": {
        "id": "BXFdBwjlv6fS"
      },
      "source": [
        "def GCD(a,b):\n",
        "    ''' Función que devuelve el máximo común divisor optimizada '''\n",
        "    while b:  \n",
        "        a, b = b, a % b\n",
        "    return abs(a)"
      ],
      "execution_count": 18,
      "outputs": []
    },
    {
      "cell_type": "code",
      "metadata": {
        "id": "moT8FSLkx6pg"
      },
      "source": [
        ""
      ],
      "execution_count": null,
      "outputs": []
    }
  ]
}
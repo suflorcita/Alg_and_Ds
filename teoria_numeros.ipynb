{
  "nbformat": 4,
  "nbformat_minor": 0,
  "metadata": {
    "colab": {
      "name": "teoria_numeros.ipynb",
      "provenance": [],
      "collapsed_sections": [],
      "authorship_tag": "ABX9TyOqq0WtDwQKs+Tv242eSOUz",
      "include_colab_link": true
    },
    "kernelspec": {
      "name": "python3",
      "display_name": "Python 3"
    },
    "language_info": {
      "name": "python"
    }
  },
  "cells": [
    {
      "cell_type": "markdown",
      "metadata": {
        "id": "view-in-github",
        "colab_type": "text"
      },
      "source": [
        "<a href=\"https://colab.research.google.com/github/suflorcita/Alg_and_Ds/blob/main/teoria_numeros.ipynb\" target=\"_parent\"><img src=\"https://colab.research.google.com/assets/colab-badge.svg\" alt=\"Open In Colab\"/></a>"
      ]
    },
    {
      "cell_type": "markdown",
      "metadata": {
        "id": "FJ5jCs--kQk2"
      },
      "source": [
        "## Aritmética modular \n",
        "\n",
        "**Aritmética modular**: Cuando un número es dividido por otro, la operación módulo encuentra el resto. Se denota con el símbolo `%`\n"
      ]
    },
    {
      "cell_type": "markdown",
      "metadata": {
        "id": "BZ2XgKMUkxzG"
      },
      "source": [
        "**Ejemplo**: Tengo dos números: 5 y 2. \n",
        "- 5 % 2 es 1 porque cuando divido 5 por 2 me da resto 1.\n"
      ]
    },
    {
      "cell_type": "markdown",
      "metadata": {
        "id": "NrLIxypnk6kn"
      },
      "source": [
        "**Propiedades**: \n",
        "\n",
        "\n",
        "1. $(a + b) \\% c = (a \\% c + b \\% c) \\% c) $\n",
        "2. $(a * b) \\% c = ((a \\% c ) * (b \\% c )  ) \\% c $\n",
        "3. $(a - b) \\% c = ((a \\% c ) - (b \\% c )  + c) \\% c$\n",
        "4. $(a / b) \\% c = ((a \\% c ) * (b^{-1}\\% c )) \\% c$"
      ]
    },
    {
      "cell_type": "markdown",
      "metadata": {
        "id": "rD3bkKPkAVb3"
      },
      "source": [
        "**Nota**: La última propiedad refiere al inverso multiplicativo del módulo de b y c. "
      ]
    },
    {
      "cell_type": "markdown",
      "metadata": {
        "id": "8XZ2odi7ld1K"
      },
      "source": [
        "#### Ejemplos"
      ]
    },
    {
      "cell_type": "markdown",
      "metadata": {
        "id": "ss-PToA7k5UC"
      },
      "source": [
        "Si $a = 5$, $b = 3$ y $c = 2$, entonces: "
      ]
    },
    {
      "cell_type": "markdown",
      "metadata": {
        "id": "_ZxIwLpmkO2X"
      },
      "source": [
        "- $(5 + 3) \\% 2 = 8 \\% 2  = 0$\n",
        "\n",
        "De la misma manera: $(5 \\% 2 + 3\\% 2) \\% 2 = (1 + 1)\\% 2  = 0$\n",
        "- $(5 * 3) \\% 2 = 15 \\% 2  = 1$\n",
        "\n",
        "De la misma manera:  $((5 \\% 2 ) * (3\\% 2)) \\% 2 = (1 * 1)\\% 2  = 1$\n"
      ]
    },
    {
      "cell_type": "markdown",
      "metadata": {
        "id": "T2VUeUG0FVm_"
      },
      "source": [
        "#### ¿Cuándo usamos estas propiedades?"
      ]
    },
    {
      "cell_type": "markdown",
      "metadata": {
        "id": "rRoNG_24CUKb"
      },
      "source": [
        "Si $a = 10^{18}$, $b = 10^{18}$ y $a = 10^{9} + 7$. Quiero calcular $(a * b)\\% c$"
      ]
    },
    {
      "cell_type": "markdown",
      "metadata": {
        "id": "qn9xVQv2FJt-"
      },
      "source": [
        "Cuando multiplicamos a con b, obtenemos que la respuesta es $10$"
      ]
    }
  ]
}